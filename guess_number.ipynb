{
 "cells": [
  {
   "cell_type": "markdown",
   "id": "3b66f60a",
   "metadata": {},
   "source": [
    "# guess a number game"
   ]
  },
  {
   "cell_type": "code",
   "execution_count": 1,
   "id": "6959a0bf",
   "metadata": {},
   "outputs": [],
   "source": [
    "import random\n",
    "\n",
    "easy_level_attempts=10\n",
    "hard_level_attempts=5\n",
    "\n",
    "def set_difficulty(level_choosen):\n",
    "    if level_choosen=='easy':\n",
    "        return easy_level_attempts\n",
    "    else:\n",
    "        return hard_level_attempts\n",
    "    \n",
    "    "
   ]
  },
  {
   "cell_type": "code",
   "execution_count": 5,
   "id": "4b796206",
   "metadata": {},
   "outputs": [],
   "source": [
    "def  check_answer(gussed_number,answer,attempts):\n",
    "    if gussed_number<answer:\n",
    "        print('your guess is too low')\n",
    "        return attempts-1\n",
    "    \n",
    "    elif gussed_number>answer:\n",
    "        print('your guess is too high')\n",
    "        return attempts-1\n",
    "    else:\n",
    "        print(f'your guess was right....the number is{answer}')\n",
    "        "
   ]
  },
  {
   "cell_type": "code",
   "execution_count": 13,
   "id": "c5f8a054",
   "metadata": {},
   "outputs": [],
   "source": [
    "def game():\n",
    "    print('let me think of a number between 1 to 20.')\n",
    "    answer =random.randint(1,20)\n",
    "    level = input(\"choose level of difficulty type 'easy' or 'hard'\")\n",
    "    attempts=set_difficulty(level)\n",
    "    guessed_number=0\n",
    "    \n",
    "    while guessed_number!=answer:\n",
    "        print(f'you have {attempts} remaining to guess the number')\n",
    "        guessed_number=int(input('guess a number:'))\n",
    "        attempts=check_answer(guessed_number,answer,attempts)\n",
    "        if attempts==0:\n",
    "            print('your out of guess ---you lose')\n",
    "            print(f'the number is {answer}')\n",
    "            return\n",
    "        else:\n",
    "            print('guess a number')\n",
    "    "
   ]
  },
  {
   "cell_type": "code",
   "execution_count": 14,
   "id": "747b359a",
   "metadata": {},
   "outputs": [
    {
     "name": "stdout",
     "output_type": "stream",
     "text": [
      "let me think of a number between 1 to 20.\n",
      "choose level of difficulty type 'easy' or 'hard'hard\n",
      "you have 5 remaining to guess the number\n",
      "guess a number:5\n",
      "your guess is too low\n",
      "guess a number\n",
      "you have 4 remaining to guess the number\n",
      "guess a number:6\n",
      "your guess is too low\n",
      "guess a number\n",
      "you have 3 remaining to guess the number\n",
      "guess a number:7\n",
      "your guess is too low\n",
      "guess a number\n",
      "you have 2 remaining to guess the number\n",
      "guess a number:5\n",
      "your guess is too low\n",
      "guess a number\n",
      "you have 1 remaining to guess the number\n",
      "guess a number:4\n",
      "your guess is too low\n",
      "your out of guess ---you lose\n",
      "the number is 16\n"
     ]
    }
   ],
   "source": [
    "game()"
   ]
  },
  {
   "cell_type": "markdown",
   "id": "e87df4e2",
   "metadata": {},
   "source": []
  },
  {
   "cell_type": "code",
   "execution_count": 7,
   "id": "6b220e2f",
   "metadata": {},
   "outputs": [
    {
     "name": "stdout",
     "output_type": "stream",
     "text": [
      "let me think of a number between 1 to 50.\n",
      "choose level of difficulty type 'easy' or 'hard'hard\n",
      "you have 5 remaining to guess the number\n",
      "guess a number:5\n",
      "your guess is too low\n",
      "guess a number\n",
      "you have 4 remaining to guess the number\n",
      "guess a number:19\n",
      "your guess is too low\n",
      "guess a number\n",
      "you have 3 remaining to guess the number\n",
      "guess a number:22\n",
      "your guess is too low\n",
      "guess a number\n",
      "you have 2 remaining to guess the number\n",
      "guess a number:33\n",
      "your guess is too low\n",
      "guess a number\n",
      "you have 1 remaining to guess the number\n",
      "guess a number:44\n",
      "your guess is too high\n",
      "your out of guess ---you lose\n"
     ]
    }
   ],
   "source": [
    "game()"
   ]
  },
  {
   "cell_type": "code",
   "execution_count": 8,
   "id": "eb709e18",
   "metadata": {},
   "outputs": [
    {
     "name": "stdout",
     "output_type": "stream",
     "text": [
      "let me think of a number between 1 to 50.\n",
      "choose level of difficulty type 'easy' or 'hard'hard\n",
      "you have 5 remaining to guess the number\n",
      "guess a number:44\n",
      "your guess is too high\n",
      "guess a number\n",
      "you have 4 remaining to guess the number\n",
      "guess a number:33\n",
      "your guess is too high\n",
      "guess a number\n",
      "you have 3 remaining to guess the number\n",
      "guess a number:22\n",
      "your guess is too high\n",
      "guess a number\n",
      "you have 2 remaining to guess the number\n",
      "guess a number:9\n",
      "your guess is too high\n",
      "guess a number\n",
      "you have 1 remaining to guess the number\n",
      "guess a number:4\n",
      "your guess is too low\n",
      "your out of guess ---you lose\n"
     ]
    }
   ],
   "source": [
    "game()"
   ]
  },
  {
   "cell_type": "code",
   "execution_count": null,
   "id": "e019945a",
   "metadata": {},
   "outputs": [],
   "source": []
  },
  {
   "cell_type": "code",
   "execution_count": null,
   "id": "f691cdf2",
   "metadata": {},
   "outputs": [],
   "source": []
  },
  {
   "cell_type": "code",
   "execution_count": null,
   "id": "069ce7d2",
   "metadata": {},
   "outputs": [],
   "source": []
  },
  {
   "cell_type": "code",
   "execution_count": null,
   "id": "537fd223",
   "metadata": {},
   "outputs": [],
   "source": []
  },
  {
   "cell_type": "code",
   "execution_count": null,
   "id": "2e047a46",
   "metadata": {},
   "outputs": [],
   "source": []
  },
  {
   "cell_type": "code",
   "execution_count": null,
   "id": "a970fe24",
   "metadata": {},
   "outputs": [],
   "source": []
  },
  {
   "cell_type": "code",
   "execution_count": null,
   "id": "64a6b0bd",
   "metadata": {},
   "outputs": [],
   "source": []
  },
  {
   "cell_type": "code",
   "execution_count": null,
   "id": "9870094c",
   "metadata": {},
   "outputs": [],
   "source": []
  },
  {
   "cell_type": "code",
   "execution_count": null,
   "id": "08583c86",
   "metadata": {},
   "outputs": [],
   "source": []
  },
  {
   "cell_type": "code",
   "execution_count": 13,
   "id": "618c95d2",
   "metadata": {},
   "outputs": [],
   "source": [
    "def num(attempt,guessed_number):\n",
    "    while guessed_number==0:\n",
    "        print(f'you have {attempts} remaining to guess the number')\n",
    "        guessed_number=int(input('guess a number:'))\n",
    "        attempts=check_answer(guessed_number,answer,attempts)\n"
   ]
  },
  {
   "cell_type": "code",
   "execution_count": 14,
   "id": "ec978aec",
   "metadata": {},
   "outputs": [
    {
     "name": "stdout",
     "output_type": "stream",
     "text": [
      "let me think of a number between 1 to 50.\n",
      "choose level of difficulty type 'easy' or 'hard'hard\n"
     ]
    },
    {
     "ename": "UnboundLocalError",
     "evalue": "local variable 'attempts' referenced before assignment",
     "output_type": "error",
     "traceback": [
      "\u001b[1;31m---------------------------------------------------------------------------\u001b[0m",
      "\u001b[1;31mUnboundLocalError\u001b[0m                         Traceback (most recent call last)",
      "\u001b[1;32m~\\AppData\\Local\\Temp\\ipykernel_14552\\3279235817.py\u001b[0m in \u001b[0;36m<module>\u001b[1;34m\u001b[0m\n\u001b[0;32m      4\u001b[0m \u001b[0mlevel\u001b[0m \u001b[1;33m=\u001b[0m \u001b[0minput\u001b[0m\u001b[1;33m(\u001b[0m\u001b[1;34m\"choose level of difficulty type 'easy' or 'hard'\"\u001b[0m\u001b[1;33m)\u001b[0m\u001b[1;33m\u001b[0m\u001b[1;33m\u001b[0m\u001b[0m\n\u001b[0;32m      5\u001b[0m \u001b[0mattempts\u001b[0m\u001b[1;33m=\u001b[0m\u001b[0mset_difficulty\u001b[0m\u001b[1;33m(\u001b[0m\u001b[0mlevel\u001b[0m\u001b[1;33m)\u001b[0m\u001b[1;33m\u001b[0m\u001b[1;33m\u001b[0m\u001b[0m\n\u001b[1;32m----> 6\u001b[1;33m \u001b[0mnum\u001b[0m\u001b[1;33m(\u001b[0m\u001b[0mattempts\u001b[0m\u001b[1;33m,\u001b[0m\u001b[1;36m0\u001b[0m\u001b[1;33m)\u001b[0m\u001b[1;33m\u001b[0m\u001b[1;33m\u001b[0m\u001b[0m\n\u001b[0m",
      "\u001b[1;32m~\\AppData\\Local\\Temp\\ipykernel_14552\\1927780956.py\u001b[0m in \u001b[0;36mnum\u001b[1;34m(attempt, guessed_number)\u001b[0m\n\u001b[0;32m      1\u001b[0m \u001b[1;32mdef\u001b[0m \u001b[0mnum\u001b[0m\u001b[1;33m(\u001b[0m\u001b[0mattempt\u001b[0m\u001b[1;33m,\u001b[0m\u001b[0mguessed_number\u001b[0m\u001b[1;33m)\u001b[0m\u001b[1;33m:\u001b[0m\u001b[1;33m\u001b[0m\u001b[1;33m\u001b[0m\u001b[0m\n\u001b[0;32m      2\u001b[0m     \u001b[1;32mwhile\u001b[0m \u001b[0mguessed_number\u001b[0m\u001b[1;33m==\u001b[0m\u001b[1;36m0\u001b[0m\u001b[1;33m:\u001b[0m\u001b[1;33m\u001b[0m\u001b[1;33m\u001b[0m\u001b[0m\n\u001b[1;32m----> 3\u001b[1;33m         \u001b[0mprint\u001b[0m\u001b[1;33m(\u001b[0m\u001b[1;34mf'you have {attempts} remaining to guess the number'\u001b[0m\u001b[1;33m)\u001b[0m\u001b[1;33m\u001b[0m\u001b[1;33m\u001b[0m\u001b[0m\n\u001b[0m\u001b[0;32m      4\u001b[0m         \u001b[0mguessed_number\u001b[0m\u001b[1;33m=\u001b[0m\u001b[0mint\u001b[0m\u001b[1;33m(\u001b[0m\u001b[0minput\u001b[0m\u001b[1;33m(\u001b[0m\u001b[1;34m'guess a number:'\u001b[0m\u001b[1;33m)\u001b[0m\u001b[1;33m)\u001b[0m\u001b[1;33m\u001b[0m\u001b[1;33m\u001b[0m\u001b[0m\n\u001b[0;32m      5\u001b[0m         \u001b[0mattempts\u001b[0m\u001b[1;33m=\u001b[0m\u001b[0mcheck_answer\u001b[0m\u001b[1;33m(\u001b[0m\u001b[0mguessed_number\u001b[0m\u001b[1;33m,\u001b[0m\u001b[0manswer\u001b[0m\u001b[1;33m,\u001b[0m\u001b[0mattempts\u001b[0m\u001b[1;33m)\u001b[0m\u001b[1;33m\u001b[0m\u001b[1;33m\u001b[0m\u001b[0m\n",
      "\u001b[1;31mUnboundLocalError\u001b[0m: local variable 'attempts' referenced before assignment"
     ]
    }
   ],
   "source": [
    "print('let me think of a number between 1 to 50.')\n",
    "\n",
    "answer =random.randint(1,5)\n",
    "level = input(\"choose level of difficulty type 'easy' or 'hard'\")\n",
    "attempts=set_difficulty(level)\n",
    "num(attempts,0)\n"
   ]
  },
  {
   "cell_type": "code",
   "execution_count": null,
   "id": "a0ba4314",
   "metadata": {},
   "outputs": [],
   "source": []
  },
  {
   "cell_type": "code",
   "execution_count": 8,
   "id": "12790472",
   "metadata": {},
   "outputs": [
    {
     "name": "stdout",
     "output_type": "stream",
     "text": [
      "let me think of a number between 1 to 50.\n"
     ]
    }
   ],
   "source": [
    "print('let me think of a number between 1 to 50.')\n",
    "\n",
    "answer =random.randint(1,5)\n"
   ]
  },
  {
   "cell_type": "code",
   "execution_count": null,
   "id": "3773c183",
   "metadata": {},
   "outputs": [],
   "source": [
    "while guessed_number!=0:\n",
    "    print(f'you have {attempts} remaining to guess the number')\n",
    "    guessed_number=int(input('guess a number:'))\n",
    "    attempts=check_answer(guessed_number,answer,attempts)"
   ]
  },
  {
   "cell_type": "code",
   "execution_count": null,
   "id": "12160cde",
   "metadata": {},
   "outputs": [],
   "source": [
    "\n",
    "c"
   ]
  }
 ],
 "metadata": {
  "kernelspec": {
   "display_name": "Python 3 (ipykernel)",
   "language": "python",
   "name": "python3"
  },
  "language_info": {
   "codemirror_mode": {
    "name": "ipython",
    "version": 3
   },
   "file_extension": ".py",
   "mimetype": "text/x-python",
   "name": "python",
   "nbconvert_exporter": "python",
   "pygments_lexer": "ipython3",
   "version": "3.9.13"
  }
 },
 "nbformat": 4,
 "nbformat_minor": 5
}
