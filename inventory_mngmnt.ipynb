{
 "cells": [
  {
   "cell_type": "markdown",
   "id": "2bb832ac",
   "metadata": {},
   "source": [
    "# inventory management system"
   ]
  },
  {
   "cell_type": "code",
   "execution_count": 1,
   "id": "6fa29479",
   "metadata": {},
   "outputs": [],
   "source": [
    "class inventory:\n",
    "    def __init__(self):\n",
    "        self.inventory={}\n",
    "        \n",
    "    def add_items(self,item_id,item_name,stock_count,price):\n",
    "        self.inventory[item_id]={'item name':item_name,\"stock_count\":stock_count,'price':price}\n",
    "        \n",
    "        \n",
    "    def update_items(self,item_id,stock_count,price):\n",
    "        if item_id in self.inventory:\n",
    "            self.inventory[item_id]['stock_count']=stock_count\n",
    "            self.inventory[item_id]['price']=price\n",
    "            \n",
    "        else:\n",
    "            print('item not found in inventary')\n",
    "            \n",
    "            \n",
    "    def check_item_details(self,item_id):\n",
    "        if item_id in self.inventory:\n",
    "            item=self.inventory[item_id]\n",
    "            \n",
    "            return f\"productname: {item['item name']}, stock count:{item['stock_count']}, price:{item['price']}\"\n",
    "        else:\n",
    "            return 'item not found in inventory'"
   ]
  },
  {
   "cell_type": "code",
   "execution_count": 2,
   "id": "5d97511a",
   "metadata": {},
   "outputs": [],
   "source": [
    "i=inventory()"
   ]
  },
  {
   "cell_type": "code",
   "execution_count": 3,
   "id": "689fdc41",
   "metadata": {},
   "outputs": [],
   "source": [
    "i.add_items('I001','laptop',100,500.00)\n",
    "i.add_items('I002','mobile',110,450.00)\n",
    "i.add_items('I003','desktop',120,500.00)\n",
    "i.add_items('I004','tablet',90,550.00)"
   ]
  },
  {
   "cell_type": "code",
   "execution_count": 4,
   "id": "765a77fb",
   "metadata": {},
   "outputs": [
    {
     "name": "stdout",
     "output_type": "stream",
     "text": [
      "item details\n",
      "productname: laptop, stock count:100, price:500.0\n",
      "productname: mobile, stock count:110, price:450.0\n",
      "productname: desktop, stock count:120, price:500.0\n",
      "productname: tablet, stock count:90, price:550.0\n"
     ]
    }
   ],
   "source": [
    "print('item details')\n",
    "\n",
    "print(i.check_item_details('I001'))\n",
    "print(i.check_item_details('I002'))\n",
    "print(i.check_item_details('I003'))\n",
    "print(i.check_item_details('I004'))"
   ]
  },
  {
   "cell_type": "code",
   "execution_count": 5,
   "id": "0b3dfa68",
   "metadata": {},
   "outputs": [],
   "source": [
    "i.update_items('I001',100,550.00)"
   ]
  },
  {
   "cell_type": "code",
   "execution_count": 6,
   "id": "557c0ea7",
   "metadata": {},
   "outputs": [
    {
     "name": "stdout",
     "output_type": "stream",
     "text": [
      "productname: laptop, stock count:100, price:550.0\n"
     ]
    }
   ],
   "source": [
    "print(i.check_item_details('I001'))"
   ]
  },
  {
   "cell_type": "code",
   "execution_count": 7,
   "id": "16bfd674",
   "metadata": {},
   "outputs": [
    {
     "name": "stdout",
     "output_type": "stream",
     "text": [
      "productname: mobile, stock count:110, price:450.0\n"
     ]
    }
   ],
   "source": [
    "print(i.check_item_details('I002'))"
   ]
  },
  {
   "cell_type": "code",
   "execution_count": null,
   "id": "8c43c163",
   "metadata": {},
   "outputs": [],
   "source": []
  }
 ],
 "metadata": {
  "kernelspec": {
   "display_name": "Python 3 (ipykernel)",
   "language": "python",
   "name": "python3"
  },
  "language_info": {
   "codemirror_mode": {
    "name": "ipython",
    "version": 3
   },
   "file_extension": ".py",
   "mimetype": "text/x-python",
   "name": "python",
   "nbconvert_exporter": "python",
   "pygments_lexer": "ipython3",
   "version": "3.9.13"
  }
 },
 "nbformat": 4,
 "nbformat_minor": 5
}
