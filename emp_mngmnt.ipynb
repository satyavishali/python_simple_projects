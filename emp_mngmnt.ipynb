{
 "cells": [
  {
   "cell_type": "markdown",
   "id": "0c5d6679",
   "metadata": {},
   "source": [
    "# employees management system"
   ]
  },
  {
   "cell_type": "code",
   "execution_count": 1,
   "id": "eadc76a7",
   "metadata": {},
   "outputs": [],
   "source": [
    "class emp:\n",
    "    def __init__(self,emp_id,emp_name,emp_salary,emp_assign_dept):\n",
    "        self.id=emp_id\n",
    "        self.name=emp_name\n",
    "        self.salary=emp_salary\n",
    "        self.dept=emp_assign_dept\n",
    "        \n",
    "    def cal_sal(self,sal,hour_workd):\n",
    "        overtime=0\n",
    "        if hour_workd >50:\n",
    "            overtime=hour_workd-50\n",
    "            \n",
    "        self.salary=self.salary+(overtime*(self.salary/50))\n",
    "        \n",
    "        \n",
    "    def assign_dept(self,emp_dept):\n",
    "        self.dept=emp_dept\n",
    "        \n",
    "        \n",
    "    def emp_details(self):\n",
    "        print('employe details')\n",
    "        print('employee id:',self.id)\n",
    "        print('employee name:',self.name)\n",
    "        print('employee salary:',self.salary)\n",
    "        print('employee department:',self.dept)\n",
    "        print('-------------------------------------')\n",
    "              \n",
    "              \n",
    "              "
   ]
  },
  {
   "cell_type": "code",
   "execution_count": 2,
   "id": "30a6421c",
   "metadata": {},
   "outputs": [],
   "source": [
    "E1=emp('E7876','ADAMS',5000,'ACCOUNTING')\n",
    "\n",
    "E2=emp('E7499','JONES',45000,'RESEARCH')\n",
    "\n",
    "E3=emp('E7900','MARTIN',50000,'SALES')\n",
    "E4=emp('E7698','SMITH',55000,'OPERARIONS')"
   ]
  },
  {
   "cell_type": "code",
   "execution_count": 3,
   "id": "780ca0a4",
   "metadata": {},
   "outputs": [],
   "source": [
    "E1.cal_sal(45000,52)"
   ]
  },
  {
   "cell_type": "code",
   "execution_count": 4,
   "id": "56ed6481",
   "metadata": {},
   "outputs": [
    {
     "name": "stdout",
     "output_type": "stream",
     "text": [
      "employe details\n",
      "employee id: E7876\n",
      "employee name: ADAMS\n",
      "employee salary: 5200.0\n",
      "employee department: ACCOUNTING\n",
      "-------------------------------------\n",
      "employe details\n",
      "employee id: E7499\n",
      "employee name: JONES\n",
      "employee salary: 45000\n",
      "employee department: RESEARCH\n",
      "-------------------------------------\n",
      "employe details\n",
      "employee id: E7900\n",
      "employee name: MARTIN\n",
      "employee salary: 50000\n",
      "employee department: SALES\n",
      "-------------------------------------\n",
      "employe details\n",
      "employee id: E7698\n",
      "employee name: SMITH\n",
      "employee salary: 55000\n",
      "employee department: OPERARIONS\n",
      "-------------------------------------\n"
     ]
    }
   ],
   "source": [
    "E1.emp_details()\n",
    "E2.emp_details()\n",
    "E3.emp_details()\n",
    "E4.emp_details()"
   ]
  },
  {
   "cell_type": "code",
   "execution_count": 5,
   "id": "cd394178",
   "metadata": {},
   "outputs": [
    {
     "name": "stdout",
     "output_type": "stream",
     "text": [
      "employe details\n",
      "employee id: E7876\n",
      "employee name: ADAMS\n",
      "employee salary: 5200.0\n",
      "employee department: OPERATIONS\n",
      "-------------------------------------\n"
     ]
    }
   ],
   "source": [
    "E1.assign_dept('OPERATIONS')\n",
    "E1.emp_details()"
   ]
  },
  {
   "cell_type": "code",
   "execution_count": 6,
   "id": "74f87207",
   "metadata": {},
   "outputs": [
    {
     "name": "stdout",
     "output_type": "stream",
     "text": [
      "employe details\n",
      "employee id: E7499\n",
      "employee name: JONES\n",
      "employee salary: 45000\n",
      "employee department: SALES\n",
      "-------------------------------------\n"
     ]
    }
   ],
   "source": [
    "E2.assign_dept('SALES')\n",
    "E2.emp_details()"
   ]
  },
  {
   "cell_type": "code",
   "execution_count": 7,
   "id": "c580333d",
   "metadata": {},
   "outputs": [
    {
     "name": "stdout",
     "output_type": "stream",
     "text": [
      "employe details\n",
      "employee id: E7698\n",
      "employee name: SMITH\n",
      "employee salary: 66000.0\n",
      "employee department: OPERARIONS\n",
      "-------------------------------------\n"
     ]
    }
   ],
   "source": [
    "E4.cal_sal(45000,60)\n",
    "E4.emp_details()"
   ]
  },
  {
   "cell_type": "code",
   "execution_count": null,
   "id": "85de62b3",
   "metadata": {},
   "outputs": [],
   "source": []
  }
 ],
 "metadata": {
  "kernelspec": {
   "display_name": "Python 3 (ipykernel)",
   "language": "python",
   "name": "python3"
  },
  "language_info": {
   "codemirror_mode": {
    "name": "ipython",
    "version": 3
   },
   "file_extension": ".py",
   "mimetype": "text/x-python",
   "name": "python",
   "nbconvert_exporter": "python",
   "pygments_lexer": "ipython3",
   "version": "3.9.13"
  }
 },
 "nbformat": 4,
 "nbformat_minor": 5
}
