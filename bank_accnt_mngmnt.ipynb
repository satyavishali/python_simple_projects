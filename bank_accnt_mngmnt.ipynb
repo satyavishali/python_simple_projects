{
 "cells": [
  {
   "cell_type": "markdown",
   "id": "ed26f9ff",
   "metadata": {},
   "source": [
    "#  BANK ACCOUNT MANAGEMENT"
   ]
  },
  {
   "cell_type": "code",
   "execution_count": 2,
   "id": "369cfc87",
   "metadata": {},
   "outputs": [],
   "source": [
    "class bank_account:\n",
    "    def __init__(self,ac_no,doo,blns,cust_name):\n",
    "        self.acno=ac_no\n",
    "        self.doo=doo\n",
    "        self.blns=blns\n",
    "        self.cust_name=cust_name\n",
    "        \n",
    "        \n",
    "    def withdraw(self,amount):\n",
    "        if amount> self.blns:\n",
    "            print('insufficient balance')\n",
    "        \n",
    "        else:\n",
    "            self.blns-amount\n",
    "            print(f\"${amount} has been withdraw from your account\")\n",
    "          \n",
    "        \n",
    "            \n",
    "        \n",
    "        \n",
    "    def deposit(self,amount):\n",
    "        self.blns+=amount\n",
    "        print(f\"{amount} has been deposited in your account\")\n",
    "        \n",
    "        \n",
    "    def check_blns(self):\n",
    "        print(f\"current balance is ${self.blns}\")\n",
    "        \n",
    "        \n",
    "    def cust_details(self):\n",
    "        print('customer name:',self.cust_name)\n",
    "        print('account number:',self.acno)\n",
    "        print('date of opening:',self.doo)\n",
    "        print('Blance:',self.blns)\n",
    "       "
   ]
  },
  {
   "cell_type": "code",
   "execution_count": 3,
   "id": "a112e482",
   "metadata": {},
   "outputs": [],
   "source": [
    "ac1=bank_account(12341,'01-01-2011',1000,'takeo toninho')\n",
    "ac2=bank_account(12342,'11-03-2011',2000,'jessy')\n",
    "ac3=bank_account(12343,'12-01-2009',3000,'robert')\n",
    "ac4=bank_account(12344,'01-01-2011',3000,'amina')\n",
    "ac5=bank_account(12345,'11-05-2011',4000,'thomos')\n"
   ]
  },
  {
   "cell_type": "code",
   "execution_count": 4,
   "id": "6c1caec4",
   "metadata": {},
   "outputs": [
    {
     "name": "stdout",
     "output_type": "stream",
     "text": [
      "customer details\n",
      "customer name: takeo toninho\n",
      "account number: 12341\n",
      "date of opening: 01-01-2011\n",
      "Blance: 1000\n",
      "None\n",
      "customer details\n",
      "customer name: jessy\n",
      "account number: 12342\n",
      "date of opening: 11-03-2011\n",
      "Blance: 2000\n",
      "None\n",
      "customer details\n",
      "customer name: robert\n",
      "account number: 12343\n",
      "date of opening: 12-01-2009\n",
      "Blance: 3000\n",
      "None\n",
      "customer details\n",
      "customer name: amina\n",
      "account number: 12344\n",
      "date of opening: 01-01-2011\n",
      "Blance: 3000\n",
      "None\n",
      "customer details\n",
      "customer name: thomos\n",
      "account number: 12345\n",
      "date of opening: 11-05-2011\n",
      "Blance: 4000\n"
     ]
    }
   ],
   "source": [
    "print('customer details')\n",
    "print(ac1.cust_details())\n",
    "\n",
    "print('customer details')\n",
    "print(ac2.cust_details())\n",
    "\n",
    "print('customer details')\n",
    "print(ac3.cust_details())\n",
    "\n",
    "print('customer details')\n",
    "print(ac4.cust_details())\n",
    "\n",
    "print('customer details')\n",
    "ac5.cust_details()"
   ]
  },
  {
   "cell_type": "code",
   "execution_count": 5,
   "id": "7ecd54d9",
   "metadata": {},
   "outputs": [
    {
     "name": "stdout",
     "output_type": "stream",
     "text": [
      "4000 has been deposited in your account\n",
      "current balance is $6000\n",
      "None\n"
     ]
    }
   ],
   "source": [
    "ac2.deposit(4000)\n",
    "\n",
    "print(ac2.check_blns())"
   ]
  },
  {
   "cell_type": "code",
   "execution_count": null,
   "id": "ca236d2a",
   "metadata": {},
   "outputs": [],
   "source": []
  }
 ],
 "metadata": {
  "kernelspec": {
   "display_name": "Python 3 (ipykernel)",
   "language": "python",
   "name": "python3"
  },
  "language_info": {
   "codemirror_mode": {
    "name": "ipython",
    "version": 3
   },
   "file_extension": ".py",
   "mimetype": "text/x-python",
   "name": "python",
   "nbconvert_exporter": "python",
   "pygments_lexer": "ipython3",
   "version": "3.9.13"
  }
 },
 "nbformat": 4,
 "nbformat_minor": 5
}
